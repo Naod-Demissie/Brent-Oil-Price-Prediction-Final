{
  "cells": [
    {
      "cell_type": "markdown",
      "metadata": {
        "id": "eTg-u2ZreI3p"
      },
      "source": [
        "# <center><font color = '#DF9166' size = 20 center> **Modeling**</font></center>\n"
      ]
    },
    {
      "cell_type": "markdown",
      "metadata": {
        "id": "uKoXPbk_eMbe"
      },
      "source": [
        "\n",
        "## <font color = '#DF9166' size=6>**Table of content**<font/><a class = 'anchor' id = 'introduction'/>"
      ]
    },
    {
      "cell_type": "markdown",
      "metadata": {
        "id": "B81Qqee7eGea"
      },
      "source": [
        "1. [**Import Libraries**](#import)\n",
        "2. [**Data Loading**](#data_loading)\n",
        "3. [**Modeling**](#modeling)"
      ]
    },
    {
      "cell_type": "markdown",
      "metadata": {
        "id": "_RkwgtESeUG0"
      },
      "source": [
        "## <font color = '#DF9166' size=6>**Import Libraries**<font/><a class = 'anchor' id = 'import'/>\n"
      ]
    },
    {
      "cell_type": "code",
      "execution_count": 1,
      "metadata": {
        "id": "inL9H16Z2fgw"
      },
      "outputs": [],
      "source": [
        "import os\n",
        "import sys\n",
        "import warnings\n",
        "\n",
        "warnings.filterwarnings(\"ignore\")"
      ]
    },
    {
      "cell_type": "code",
      "execution_count": 2,
      "metadata": {
        "id": "0sCONDQtbR-u"
      },
      "outputs": [],
      "source": [
        "sys.path.append(os.path.abspath(os.path.pardir))\n",
        "from scripts.train_models import TimeSeriesModel"
      ]
    },
    {
      "cell_type": "markdown",
      "metadata": {},
      "source": [
        "## <font color = '#DF9166' size=6>**Data Loading**<font/><a class = 'anchor' id = 'data_loading'/>"
      ]
    },
    {
      "cell_type": "code",
      "execution_count": 4,
      "metadata": {},
      "outputs": [],
      "source": [
        "DATA_PATH = \"../data/raw/BrentOilPrices.csv\"\n",
        "\n",
        "ts_model = TimeSeriesModel(DATA_PATH)"
      ]
    },
    {
      "cell_type": "code",
      "execution_count": 5,
      "metadata": {},
      "outputs": [
        {
          "data": {
            "text/html": [
              "<div>\n",
              "<style scoped>\n",
              "    .dataframe tbody tr th:only-of-type {\n",
              "        vertical-align: middle;\n",
              "    }\n",
              "\n",
              "    .dataframe tbody tr th {\n",
              "        vertical-align: top;\n",
              "    }\n",
              "\n",
              "    .dataframe thead th {\n",
              "        text-align: right;\n",
              "    }\n",
              "</style>\n",
              "<table border=\"1\" class=\"dataframe\">\n",
              "  <thead>\n",
              "    <tr style=\"text-align: right;\">\n",
              "      <th></th>\n",
              "      <th>Price</th>\n",
              "    </tr>\n",
              "    <tr>\n",
              "      <th>Date</th>\n",
              "      <th></th>\n",
              "    </tr>\n",
              "  </thead>\n",
              "  <tbody>\n",
              "    <tr>\n",
              "      <th>1987-05-20</th>\n",
              "      <td>18.63</td>\n",
              "    </tr>\n",
              "    <tr>\n",
              "      <th>1987-05-21</th>\n",
              "      <td>18.45</td>\n",
              "    </tr>\n",
              "    <tr>\n",
              "      <th>1987-05-22</th>\n",
              "      <td>18.55</td>\n",
              "    </tr>\n",
              "    <tr>\n",
              "      <th>1987-05-25</th>\n",
              "      <td>18.60</td>\n",
              "    </tr>\n",
              "    <tr>\n",
              "      <th>1987-05-26</th>\n",
              "      <td>18.63</td>\n",
              "    </tr>\n",
              "  </tbody>\n",
              "</table>\n",
              "</div>"
            ],
            "text/plain": [
              "            Price\n",
              "Date             \n",
              "1987-05-20  18.63\n",
              "1987-05-21  18.45\n",
              "1987-05-22  18.55\n",
              "1987-05-25  18.60\n",
              "1987-05-26  18.63"
            ]
          },
          "execution_count": 5,
          "metadata": {},
          "output_type": "execute_result"
        }
      ],
      "source": [
        "ts_model.df.head()"
      ]
    },
    {
      "cell_type": "markdown",
      "metadata": {},
      "source": [
        "## <font color = '#DF9166' size=6>**Modeling**<font/><a class = 'anchor' id = 'modeling'/>"
      ]
    },
    {
      "cell_type": "code",
      "execution_count": 17,
      "metadata": {},
      "outputs": [
        {
          "data": {
            "text/html": [
              "<table class=\"simpletable\">\n",
              "<caption>SARIMAX Results</caption>\n",
              "<tr>\n",
              "  <th>Dep. Variable:</th>         <td>Price</td>      <th>  No. Observations:  </th>    <td>7208</td>   \n",
              "</tr>\n",
              "<tr>\n",
              "  <th>Model:</th>            <td>ARIMA(1, 1, 1)</td>  <th>  Log Likelihood     </th> <td>-10647.934</td>\n",
              "</tr>\n",
              "<tr>\n",
              "  <th>Date:</th>            <td>Wed, 12 Mar 2025</td> <th>  AIC                </th>  <td>21301.869</td>\n",
              "</tr>\n",
              "<tr>\n",
              "  <th>Time:</th>                <td>21:11:45</td>     <th>  BIC                </th>  <td>21322.517</td>\n",
              "</tr>\n",
              "<tr>\n",
              "  <th>Sample:</th>                  <td>0</td>        <th>  HQIC               </th>  <td>21308.974</td>\n",
              "</tr>\n",
              "<tr>\n",
              "  <th></th>                      <td> - 7208</td>     <th>                     </th>      <td> </td>    \n",
              "</tr>\n",
              "<tr>\n",
              "  <th>Covariance Type:</th>        <td>opg</td>       <th>                     </th>      <td> </td>    \n",
              "</tr>\n",
              "</table>\n",
              "<table class=\"simpletable\">\n",
              "<tr>\n",
              "     <td></td>       <th>coef</th>     <th>std err</th>      <th>z</th>      <th>P>|z|</th>  <th>[0.025</th>    <th>0.975]</th>  \n",
              "</tr>\n",
              "<tr>\n",
              "  <th>ar.L1</th>  <td>   -0.1140</td> <td>    0.181</td> <td>   -0.629</td> <td> 0.530</td> <td>   -0.469</td> <td>    0.241</td>\n",
              "</tr>\n",
              "<tr>\n",
              "  <th>ma.L1</th>  <td>    0.1515</td> <td>    0.180</td> <td>    0.841</td> <td> 0.401</td> <td>   -0.202</td> <td>    0.505</td>\n",
              "</tr>\n",
              "<tr>\n",
              "  <th>sigma2</th> <td>    1.1241</td> <td>    0.008</td> <td>  144.439</td> <td> 0.000</td> <td>    1.109</td> <td>    1.139</td>\n",
              "</tr>\n",
              "</table>\n",
              "<table class=\"simpletable\">\n",
              "<tr>\n",
              "  <th>Ljung-Box (L1) (Q):</th>     <td>0.00</td>  <th>  Jarque-Bera (JB):  </th> <td>28139.73</td>\n",
              "</tr>\n",
              "<tr>\n",
              "  <th>Prob(Q):</th>                <td>0.99</td>  <th>  Prob(JB):          </th>   <td>0.00</td>  \n",
              "</tr>\n",
              "<tr>\n",
              "  <th>Heteroskedasticity (H):</th> <td>10.15</td> <th>  Skew:              </th>   <td>-0.26</td> \n",
              "</tr>\n",
              "<tr>\n",
              "  <th>Prob(H) (two-sided):</th>    <td>0.00</td>  <th>  Kurtosis:          </th>   <td>12.67</td> \n",
              "</tr>\n",
              "</table><br/><br/>Warnings:<br/>[1] Covariance matrix calculated using the outer product of gradients (complex-step)."
            ],
            "text/latex": [
              "\\begin{center}\n",
              "\\begin{tabular}{lclc}\n",
              "\\toprule\n",
              "\\textbf{Dep. Variable:}          &      Price       & \\textbf{  No. Observations:  } &    7208     \\\\\n",
              "\\textbf{Model:}                  &  ARIMA(1, 1, 1)  & \\textbf{  Log Likelihood     } & -10647.934  \\\\\n",
              "\\textbf{Date:}                   & Wed, 12 Mar 2025 & \\textbf{  AIC                } & 21301.869   \\\\\n",
              "\\textbf{Time:}                   &     21:11:45     & \\textbf{  BIC                } & 21322.517   \\\\\n",
              "\\textbf{Sample:}                 &        0         & \\textbf{  HQIC               } & 21308.974   \\\\\n",
              "\\textbf{}                        &      - 7208      & \\textbf{                     } &             \\\\\n",
              "\\textbf{Covariance Type:}        &       opg        & \\textbf{                     } &             \\\\\n",
              "\\bottomrule\n",
              "\\end{tabular}\n",
              "\\begin{tabular}{lcccccc}\n",
              "                & \\textbf{coef} & \\textbf{std err} & \\textbf{z} & \\textbf{P$> |$z$|$} & \\textbf{[0.025} & \\textbf{0.975]}  \\\\\n",
              "\\midrule\n",
              "\\textbf{ar.L1}  &      -0.1140  &        0.181     &    -0.629  &         0.530        &       -0.469    &        0.241     \\\\\n",
              "\\textbf{ma.L1}  &       0.1515  &        0.180     &     0.841  &         0.401        &       -0.202    &        0.505     \\\\\n",
              "\\textbf{sigma2} &       1.1241  &        0.008     &   144.439  &         0.000        &        1.109    &        1.139     \\\\\n",
              "\\bottomrule\n",
              "\\end{tabular}\n",
              "\\begin{tabular}{lclc}\n",
              "\\textbf{Ljung-Box (L1) (Q):}     &  0.00 & \\textbf{  Jarque-Bera (JB):  } & 28139.73  \\\\\n",
              "\\textbf{Prob(Q):}                &  0.99 & \\textbf{  Prob(JB):          } &   0.00    \\\\\n",
              "\\textbf{Heteroskedasticity (H):} & 10.15 & \\textbf{  Skew:              } &  -0.26    \\\\\n",
              "\\textbf{Prob(H) (two-sided):}    &  0.00 & \\textbf{  Kurtosis:          } &  12.67    \\\\\n",
              "\\bottomrule\n",
              "\\end{tabular}\n",
              "%\\caption{SARIMAX Results}\n",
              "\\end{center}\n",
              "\n",
              "Warnings: \\newline\n",
              " [1] Covariance matrix calculated using the outer product of gradients (complex-step)."
            ],
            "text/plain": [
              "<class 'statsmodels.iolib.summary.Summary'>\n",
              "\"\"\"\n",
              "                               SARIMAX Results                                \n",
              "==============================================================================\n",
              "Dep. Variable:                  Price   No. Observations:                 7208\n",
              "Model:                 ARIMA(1, 1, 1)   Log Likelihood              -10647.934\n",
              "Date:                Wed, 12 Mar 2025   AIC                          21301.869\n",
              "Time:                        21:11:45   BIC                          21322.517\n",
              "Sample:                             0   HQIC                         21308.974\n",
              "                               - 7208                                         \n",
              "Covariance Type:                  opg                                         \n",
              "==============================================================================\n",
              "                 coef    std err          z      P>|z|      [0.025      0.975]\n",
              "------------------------------------------------------------------------------\n",
              "ar.L1         -0.1140      0.181     -0.629      0.530      -0.469       0.241\n",
              "ma.L1          0.1515      0.180      0.841      0.401      -0.202       0.505\n",
              "sigma2         1.1241      0.008    144.439      0.000       1.109       1.139\n",
              "===================================================================================\n",
              "Ljung-Box (L1) (Q):                   0.00   Jarque-Bera (JB):             28139.73\n",
              "Prob(Q):                              0.99   Prob(JB):                         0.00\n",
              "Heteroskedasticity (H):              10.15   Skew:                            -0.26\n",
              "Prob(H) (two-sided):                  0.00   Kurtosis:                        12.67\n",
              "===================================================================================\n",
              "\n",
              "Warnings:\n",
              "[1] Covariance matrix calculated using the outer product of gradients (complex-step).\n",
              "\"\"\""
            ]
          },
          "execution_count": 17,
          "metadata": {},
          "output_type": "execute_result"
        }
      ],
      "source": [
        "ts_model.fit_arima()"
      ]
    },
    {
      "cell_type": "code",
      "execution_count": 37,
      "metadata": {},
      "outputs": [
        {
          "data": {
            "text/html": [
              "<table class=\"simpletable\">\n",
              "<caption>Constant Mean - GARCH Model Results</caption>\n",
              "<tr>\n",
              "  <th>Dep. Variable:</th>        <td>Price</td>       <th>  R-squared:         </th>  <td>   0.000</td> \n",
              "</tr>\n",
              "<tr>\n",
              "  <th>Mean Model:</th>       <td>Constant Mean</td>   <th>  Adj. R-squared:    </th>  <td>   0.000</td> \n",
              "</tr>\n",
              "<tr>\n",
              "  <th>Vol Model:</th>            <td>GARCH</td>       <th>  Log-Likelihood:    </th> <td>   18014.2</td>\n",
              "</tr>\n",
              "<tr>\n",
              "  <th>Distribution:</th>        <td>Normal</td>       <th>  AIC:               </th> <td>  -36020.3</td>\n",
              "</tr>\n",
              "<tr>\n",
              "  <th>Method:</th>        <td>Maximum Likelihood</td> <th>  BIC:               </th> <td>  -35992.8</td>\n",
              "</tr>\n",
              "<tr>\n",
              "  <th></th>                        <td></td>          <th>  No. Observations:  </th>    <td>7207</td>   \n",
              "</tr>\n",
              "<tr>\n",
              "  <th>Date:</th>           <td>Wed, Feb 26 2025</td>  <th>  Df Residuals:      </th>    <td>7206</td>   \n",
              "</tr>\n",
              "<tr>\n",
              "  <th>Time:</th>               <td>16:59:09</td>      <th>  Df Model:          </th>      <td>1</td>    \n",
              "</tr>\n",
              "</table>\n",
              "<table class=\"simpletable\">\n",
              "<caption>Mean Model</caption>\n",
              "<tr>\n",
              "   <td></td>     <th>coef</th>     <th>std err</th>      <th>t</th>        <th>P>|t|</th>     <th>95.0% Conf. Int.</th>   \n",
              "</tr>\n",
              "<tr>\n",
              "  <th>mu</th> <td>5.5929e-04</td> <td>1.554e-05</td> <td>   36.002</td> <td>7.824e-284</td> <td>[5.288e-04,5.897e-04]</td>\n",
              "</tr>\n",
              "</table>\n",
              "<table class=\"simpletable\">\n",
              "<caption>Volatility Model</caption>\n",
              "<tr>\n",
              "      <td></td>        <th>coef</th>     <th>std err</th>      <th>t</th>       <th>P>|t|</th>     <th>95.0% Conf. Int.</th>   \n",
              "</tr>\n",
              "<tr>\n",
              "  <th>omega</th>    <td>1.0258e-05</td> <td>2.999e-10</td> <td>3.421e+04</td>   <td>0.000</td>   <td>[1.026e-05,1.026e-05]</td>\n",
              "</tr>\n",
              "<tr>\n",
              "  <th>alpha[1]</th> <td>    0.1000</td> <td>9.362e-03</td> <td>   10.682</td> <td>1.242e-26</td>  <td>[8.165e-02,  0.118]</td> \n",
              "</tr>\n",
              "<tr>\n",
              "  <th>beta[1]</th>  <td>    0.8800</td> <td>8.020e-03</td> <td>  109.728</td>   <td>0.000</td>     <td>[  0.864,  0.896]</td>  \n",
              "</tr>\n",
              "</table><br/><br/>Covariance estimator: robust"
            ],
            "text/latex": [
              "\\begin{center}\n",
              "\\begin{tabular}{lclc}\n",
              "\\toprule\n",
              "\\textbf{Dep. Variable:} &       Price        & \\textbf{  R-squared:         } &     0.000   \\\\\n",
              "\\textbf{Mean Model:}    &   Constant Mean    & \\textbf{  Adj. R-squared:    } &     0.000   \\\\\n",
              "\\textbf{Vol Model:}     &       GARCH        & \\textbf{  Log-Likelihood:    } &    18014.2  \\\\\n",
              "\\textbf{Distribution:}  &       Normal       & \\textbf{  AIC:               } &   -36020.3  \\\\\n",
              "\\textbf{Method:}        & Maximum Likelihood & \\textbf{  BIC:               } &   -35992.8  \\\\\n",
              "\\textbf{}               &                    & \\textbf{  No. Observations:  } &    7207     \\\\\n",
              "\\textbf{Date:}          &  Wed, Feb 26 2025  & \\textbf{  Df Residuals:      } &    7206     \\\\\n",
              "\\textbf{Time:}          &      16:59:09      & \\textbf{  Df Model:          } &     1       \\\\\n",
              "\\bottomrule\n",
              "\\end{tabular}\n",
              "\\begin{tabular}{lccccc}\n",
              "            & \\textbf{coef} & \\textbf{std err} & \\textbf{t} & \\textbf{P$> |$t$|$} & \\textbf{95.0\\% Conf. Int.}  \\\\\n",
              "\\midrule\n",
              "\\textbf{mu} &   5.5929e-04  &    1.554e-05     &    36.002  &      7.824e-284      &   [5.288e-04,5.897e-04]     \\\\\n",
              "                  & \\textbf{coef} & \\textbf{std err} & \\textbf{t} & \\textbf{P$> |$t$|$} & \\textbf{95.0\\% Conf. Int.}  \\\\\n",
              "\\midrule\n",
              "\\textbf{omega}    &   1.0258e-05  &    2.999e-10     & 3.421e+04  &        0.000         &   [1.026e-05,1.026e-05]     \\\\\n",
              "\\textbf{alpha[1]} &       0.1000  &    9.362e-03     &    10.682  &      1.242e-26       &    [8.165e-02,  0.118]      \\\\\n",
              "\\textbf{beta[1]}  &       0.8800  &    8.020e-03     &   109.728  &        0.000         &     [  0.864,  0.896]       \\\\\n",
              "\\bottomrule\n",
              "\\end{tabular}\n",
              "%\\caption{Constant Mean - GARCH Model Results}\n",
              "\\end{center}\n",
              "\n",
              "Covariance estimator: robust"
            ],
            "text/plain": [
              "<class 'statsmodels.iolib.summary.Summary'>\n",
              "\"\"\"\n",
              "                     Constant Mean - GARCH Model Results                      \n",
              "==============================================================================\n",
              "Dep. Variable:                  Price   R-squared:                       0.000\n",
              "Mean Model:             Constant Mean   Adj. R-squared:                  0.000\n",
              "Vol Model:                      GARCH   Log-Likelihood:                18014.2\n",
              "Distribution:                  Normal   AIC:                          -36020.3\n",
              "Method:            Maximum Likelihood   BIC:                          -35992.8\n",
              "                                        No. Observations:                 7207\n",
              "Date:                Wed, Feb 26 2025   Df Residuals:                     7206\n",
              "Time:                        16:59:09   Df Model:                            1\n",
              "                                 Mean Model                                 \n",
              "============================================================================\n",
              "                 coef    std err          t      P>|t|      95.0% Conf. Int.\n",
              "----------------------------------------------------------------------------\n",
              "mu         5.5929e-04  1.554e-05     36.002 7.824e-284 [5.288e-04,5.897e-04]\n",
              "                              Volatility Model                              \n",
              "============================================================================\n",
              "                 coef    std err          t      P>|t|      95.0% Conf. Int.\n",
              "----------------------------------------------------------------------------\n",
              "omega      1.0258e-05  2.999e-10  3.421e+04      0.000 [1.026e-05,1.026e-05]\n",
              "alpha[1]       0.1000  9.362e-03     10.682  1.242e-26   [8.165e-02,  0.118]\n",
              "beta[1]        0.8800  8.020e-03    109.728      0.000     [  0.864,  0.896]\n",
              "============================================================================\n",
              "\n",
              "Covariance estimator: robust\n",
              "\"\"\""
            ]
          },
          "execution_count": 37,
          "metadata": {},
          "output_type": "execute_result"
        }
      ],
      "source": [
        "ts_model.fit_garch()"
      ]
    },
    {
      "cell_type": "code",
      "execution_count": 4,
      "metadata": {},
      "outputs": [
        {
          "data": {
            "text/plain": [
              "'Random Forest model trained and saved.'"
            ]
          },
          "execution_count": 4,
          "metadata": {},
          "output_type": "execute_result"
        }
      ],
      "source": [
        "ts_model.fit_random_forest()"
      ]
    },
    {
      "cell_type": "code",
      "execution_count": 5,
      "metadata": {},
      "outputs": [
        {
          "data": {
            "text/plain": [
              "'XGBoost model trained and saved.'"
            ]
          },
          "execution_count": 5,
          "metadata": {},
          "output_type": "execute_result"
        }
      ],
      "source": [
        "ts_model.fit_xgboost()"
      ]
    },
    {
      "cell_type": "code",
      "execution_count": 6,
      "metadata": {},
      "outputs": [
        {
          "name": "stdout",
          "output_type": "stream",
          "text": [
            "[LightGBM] [Warning] feature_fraction is set=0.8, colsample_bytree=1.0 will be ignored. Current value: feature_fraction=0.8\n",
            "[LightGBM] [Warning] bagging_fraction is set=0.8, subsample=1.0 will be ignored. Current value: bagging_fraction=0.8\n",
            "[LightGBM] [Warning] bagging_freq is set=5, subsample_freq=0 will be ignored. Current value: bagging_freq=5\n",
            "[LightGBM] [Warning] feature_fraction is set=0.8, colsample_bytree=1.0 will be ignored. Current value: feature_fraction=0.8\n",
            "[LightGBM] [Warning] bagging_fraction is set=0.8, subsample=1.0 will be ignored. Current value: bagging_fraction=0.8\n",
            "[LightGBM] [Warning] bagging_freq is set=5, subsample_freq=0 will be ignored. Current value: bagging_freq=5\n",
            "[LightGBM] [Info] Auto-choosing col-wise multi-threading, the overhead of testing was 0.001678 seconds.\n",
            "You can set `force_col_wise=true` to remove the overhead.\n",
            "[LightGBM] [Info] Total Bins 3651\n",
            "[LightGBM] [Info] Number of data points in the train set: 7179, number of used features: 18\n",
            "[LightGBM] [Info] Start training from score 44.924853\n"
          ]
        },
        {
          "data": {
            "text/plain": [
              "'LightGBM model trained and saved.'"
            ]
          },
          "execution_count": 6,
          "metadata": {},
          "output_type": "execute_result"
        }
      ],
      "source": [
        "ts_model.fit_lightgbm()"
      ]
    },
    {
      "cell_type": "code",
      "execution_count": 7,
      "metadata": {},
      "outputs": [
        {
          "name": "stdout",
          "output_type": "stream",
          "text": [
            "[LightGBM] [Info] Auto-choosing col-wise multi-threading, the overhead of testing was 0.002057 seconds.\n",
            "You can set `force_col_wise=true` to remove the overhead.\n",
            "[LightGBM] [Info] Total Bins 3651\n",
            "[LightGBM] [Info] Number of data points in the train set: 7179, number of used features: 18\n",
            "[LightGBM] [Info] Start training from score 44.924853\n"
          ]
        },
        {
          "data": {
            "text/plain": [
              "'Stacking ensemble trained and saved.'"
            ]
          },
          "execution_count": 7,
          "metadata": {},
          "output_type": "execute_result"
        }
      ],
      "source": [
        "# Train ensemble\n",
        "ts_model.fit_stacking_ensemble()"
      ]
    }
  ],
  "metadata": {
    "colab": {
      "collapsed_sections": [
        "uKoXPbk_eMbe"
      ],
      "provenance": []
    },
    "kernelspec": {
      "display_name": "w8-env",
      "language": "python",
      "name": "python3"
    },
    "language_info": {
      "codemirror_mode": {
        "name": "ipython",
        "version": 3
      },
      "file_extension": ".py",
      "mimetype": "text/x-python",
      "name": "python",
      "nbconvert_exporter": "python",
      "pygments_lexer": "ipython3",
      "version": "3.10.16"
    }
  },
  "nbformat": 4,
  "nbformat_minor": 0
}
